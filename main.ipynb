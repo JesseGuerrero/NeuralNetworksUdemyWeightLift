{
 "cells": [
  {
   "cell_type": "code",
   "execution_count": 56,
   "metadata": {
    "collapsed": true
   },
   "outputs": [],
   "source": [
    "import torch\n",
    "import torch.nn as nn\n",
    "\n",
    "import numpy as np\n",
    "import pandas as pd\n",
    "import matplotlib.pyplot as plt\n",
    "%matplotlib inline"
   ]
  },
  {
   "cell_type": "code",
   "execution_count": 57,
   "outputs": [
    {
     "data": {
      "text/plain": "           pickup_datetime  fare_amount  fare_class  pickup_longitude  \\\n0  2010-04-19 08:17:56 UTC          6.5           0        -73.992365   \n1  2010-04-17 15:43:53 UTC          6.9           0        -73.990078   \n2  2010-04-17 11:23:26 UTC         10.1           1        -73.994149   \n3  2010-04-11 21:25:03 UTC          8.9           0        -73.990485   \n4  2010-04-17 02:19:01 UTC         19.7           1        -73.990976   \n\n   pickup_latitude  dropoff_longitude  dropoff_latitude  passenger_count  \n0        40.730521         -73.975499         40.744746                1  \n1        40.740558         -73.974232         40.744114                1  \n2        40.751118         -73.960064         40.766235                2  \n3        40.756422         -73.971205         40.748192                1  \n4        40.734202         -73.905956         40.743115                1  ",
      "text/html": "<div>\n<style scoped>\n    .dataframe tbody tr th:only-of-type {\n        vertical-align: middle;\n    }\n\n    .dataframe tbody tr th {\n        vertical-align: top;\n    }\n\n    .dataframe thead th {\n        text-align: right;\n    }\n</style>\n<table border=\"1\" class=\"dataframe\">\n  <thead>\n    <tr style=\"text-align: right;\">\n      <th></th>\n      <th>pickup_datetime</th>\n      <th>fare_amount</th>\n      <th>fare_class</th>\n      <th>pickup_longitude</th>\n      <th>pickup_latitude</th>\n      <th>dropoff_longitude</th>\n      <th>dropoff_latitude</th>\n      <th>passenger_count</th>\n    </tr>\n  </thead>\n  <tbody>\n    <tr>\n      <th>0</th>\n      <td>2010-04-19 08:17:56 UTC</td>\n      <td>6.5</td>\n      <td>0</td>\n      <td>-73.992365</td>\n      <td>40.730521</td>\n      <td>-73.975499</td>\n      <td>40.744746</td>\n      <td>1</td>\n    </tr>\n    <tr>\n      <th>1</th>\n      <td>2010-04-17 15:43:53 UTC</td>\n      <td>6.9</td>\n      <td>0</td>\n      <td>-73.990078</td>\n      <td>40.740558</td>\n      <td>-73.974232</td>\n      <td>40.744114</td>\n      <td>1</td>\n    </tr>\n    <tr>\n      <th>2</th>\n      <td>2010-04-17 11:23:26 UTC</td>\n      <td>10.1</td>\n      <td>1</td>\n      <td>-73.994149</td>\n      <td>40.751118</td>\n      <td>-73.960064</td>\n      <td>40.766235</td>\n      <td>2</td>\n    </tr>\n    <tr>\n      <th>3</th>\n      <td>2010-04-11 21:25:03 UTC</td>\n      <td>8.9</td>\n      <td>0</td>\n      <td>-73.990485</td>\n      <td>40.756422</td>\n      <td>-73.971205</td>\n      <td>40.748192</td>\n      <td>1</td>\n    </tr>\n    <tr>\n      <th>4</th>\n      <td>2010-04-17 02:19:01 UTC</td>\n      <td>19.7</td>\n      <td>1</td>\n      <td>-73.990976</td>\n      <td>40.734202</td>\n      <td>-73.905956</td>\n      <td>40.743115</td>\n      <td>1</td>\n    </tr>\n  </tbody>\n</table>\n</div>"
     },
     "execution_count": 57,
     "metadata": {},
     "output_type": "execute_result"
    }
   ],
   "source": [
    "df = pd.read_csv('NYCTaxiFares.csv')\n",
    "df.head()"
   ],
   "metadata": {
    "collapsed": false
   }
  },
  {
   "cell_type": "code",
   "execution_count": 58,
   "outputs": [
    {
     "data": {
      "text/plain": "count    120000.000000\nmean         10.040326\nstd           7.500134\nmin           2.500000\n25%           5.700000\n50%           7.700000\n75%          11.300000\nmax          49.900000\nName: fare_amount, dtype: float64"
     },
     "execution_count": 58,
     "metadata": {},
     "output_type": "execute_result"
    }
   ],
   "source": [
    "df['fare_amount'].describe()"
   ],
   "metadata": {
    "collapsed": false
   }
  },
  {
   "cell_type": "code",
   "execution_count": 59,
   "outputs": [],
   "source": [
    "def haversine_distance(df, lat1, long1, lat2, long2):\n",
    "    \"\"\"\n",
    "    Calculates the haversine distance between 2 sets of GPS coordinates in df\n",
    "    \"\"\"\n",
    "    r = 6371  # average radius of Earth in kilometers\n",
    "\n",
    "    phi1 = np.radians(df[lat1])\n",
    "    phi2 = np.radians(df[lat2])\n",
    "\n",
    "    delta_phi = np.radians(df[lat2]-df[lat1])\n",
    "    delta_lambda = np.radians(df[long2]-df[long1])\n",
    "\n",
    "    a = np.sin(delta_phi/2)**2 + np.cos(phi1) * np.cos(phi2) * np.sin(delta_lambda/2)**2\n",
    "    c = 2 * np.arctan2(np.sqrt(a), np.sqrt(1-a))\n",
    "    d = (r * c) # in kilometers\n",
    "\n",
    "    return d"
   ],
   "metadata": {
    "collapsed": false
   }
  },
  {
   "cell_type": "code",
   "execution_count": 60,
   "outputs": [],
   "source": [
    "df['dist_km'] = haversine_distance(df, 'pickup_latitude', 'pickup_longitude', 'dropoff_latitude', 'dropoff_longitude')"
   ],
   "metadata": {
    "collapsed": false
   }
  },
  {
   "cell_type": "code",
   "execution_count": 61,
   "outputs": [
    {
     "data": {
      "text/plain": "           pickup_datetime  fare_amount  fare_class  pickup_longitude  \\\n0  2010-04-19 08:17:56 UTC          6.5           0        -73.992365   \n1  2010-04-17 15:43:53 UTC          6.9           0        -73.990078   \n2  2010-04-17 11:23:26 UTC         10.1           1        -73.994149   \n3  2010-04-11 21:25:03 UTC          8.9           0        -73.990485   \n4  2010-04-17 02:19:01 UTC         19.7           1        -73.990976   \n\n   pickup_latitude  dropoff_longitude  dropoff_latitude  passenger_count  \\\n0        40.730521         -73.975499         40.744746                1   \n1        40.740558         -73.974232         40.744114                1   \n2        40.751118         -73.960064         40.766235                2   \n3        40.756422         -73.971205         40.748192                1   \n4        40.734202         -73.905956         40.743115                1   \n\n    dist_km  \n0  2.126312  \n1  1.392307  \n2  3.326763  \n3  1.864129  \n4  7.231321  ",
      "text/html": "<div>\n<style scoped>\n    .dataframe tbody tr th:only-of-type {\n        vertical-align: middle;\n    }\n\n    .dataframe tbody tr th {\n        vertical-align: top;\n    }\n\n    .dataframe thead th {\n        text-align: right;\n    }\n</style>\n<table border=\"1\" class=\"dataframe\">\n  <thead>\n    <tr style=\"text-align: right;\">\n      <th></th>\n      <th>pickup_datetime</th>\n      <th>fare_amount</th>\n      <th>fare_class</th>\n      <th>pickup_longitude</th>\n      <th>pickup_latitude</th>\n      <th>dropoff_longitude</th>\n      <th>dropoff_latitude</th>\n      <th>passenger_count</th>\n      <th>dist_km</th>\n    </tr>\n  </thead>\n  <tbody>\n    <tr>\n      <th>0</th>\n      <td>2010-04-19 08:17:56 UTC</td>\n      <td>6.5</td>\n      <td>0</td>\n      <td>-73.992365</td>\n      <td>40.730521</td>\n      <td>-73.975499</td>\n      <td>40.744746</td>\n      <td>1</td>\n      <td>2.126312</td>\n    </tr>\n    <tr>\n      <th>1</th>\n      <td>2010-04-17 15:43:53 UTC</td>\n      <td>6.9</td>\n      <td>0</td>\n      <td>-73.990078</td>\n      <td>40.740558</td>\n      <td>-73.974232</td>\n      <td>40.744114</td>\n      <td>1</td>\n      <td>1.392307</td>\n    </tr>\n    <tr>\n      <th>2</th>\n      <td>2010-04-17 11:23:26 UTC</td>\n      <td>10.1</td>\n      <td>1</td>\n      <td>-73.994149</td>\n      <td>40.751118</td>\n      <td>-73.960064</td>\n      <td>40.766235</td>\n      <td>2</td>\n      <td>3.326763</td>\n    </tr>\n    <tr>\n      <th>3</th>\n      <td>2010-04-11 21:25:03 UTC</td>\n      <td>8.9</td>\n      <td>0</td>\n      <td>-73.990485</td>\n      <td>40.756422</td>\n      <td>-73.971205</td>\n      <td>40.748192</td>\n      <td>1</td>\n      <td>1.864129</td>\n    </tr>\n    <tr>\n      <th>4</th>\n      <td>2010-04-17 02:19:01 UTC</td>\n      <td>19.7</td>\n      <td>1</td>\n      <td>-73.990976</td>\n      <td>40.734202</td>\n      <td>-73.905956</td>\n      <td>40.743115</td>\n      <td>1</td>\n      <td>7.231321</td>\n    </tr>\n  </tbody>\n</table>\n</div>"
     },
     "execution_count": 61,
     "metadata": {},
     "output_type": "execute_result"
    }
   ],
   "source": [
    "df.head()"
   ],
   "metadata": {
    "collapsed": false
   }
  },
  {
   "cell_type": "code",
   "execution_count": 62,
   "outputs": [
    {
     "name": "stdout",
     "output_type": "stream",
     "text": [
      "<class 'pandas.core.frame.DataFrame'>\n",
      "RangeIndex: 120000 entries, 0 to 119999\n",
      "Data columns (total 9 columns):\n",
      " #   Column             Non-Null Count   Dtype  \n",
      "---  ------             --------------   -----  \n",
      " 0   pickup_datetime    120000 non-null  object \n",
      " 1   fare_amount        120000 non-null  float64\n",
      " 2   fare_class         120000 non-null  int64  \n",
      " 3   pickup_longitude   120000 non-null  float64\n",
      " 4   pickup_latitude    120000 non-null  float64\n",
      " 5   dropoff_longitude  120000 non-null  float64\n",
      " 6   dropoff_latitude   120000 non-null  float64\n",
      " 7   passenger_count    120000 non-null  int64  \n",
      " 8   dist_km            120000 non-null  float64\n",
      "dtypes: float64(6), int64(2), object(1)\n",
      "memory usage: 8.2+ MB\n"
     ]
    }
   ],
   "source": [
    "df.info()"
   ],
   "metadata": {
    "collapsed": false
   }
  },
  {
   "cell_type": "code",
   "execution_count": 63,
   "outputs": [],
   "source": [
    "df['pickup_datetime'] = pd.to_datetime(df['pickup_datetime'])"
   ],
   "metadata": {
    "collapsed": false
   }
  },
  {
   "cell_type": "code",
   "execution_count": 64,
   "outputs": [
    {
     "name": "stdout",
     "output_type": "stream",
     "text": [
      "<class 'pandas.core.frame.DataFrame'>\n",
      "RangeIndex: 120000 entries, 0 to 119999\n",
      "Data columns (total 9 columns):\n",
      " #   Column             Non-Null Count   Dtype              \n",
      "---  ------             --------------   -----              \n",
      " 0   pickup_datetime    120000 non-null  datetime64[ns, UTC]\n",
      " 1   fare_amount        120000 non-null  float64            \n",
      " 2   fare_class         120000 non-null  int64              \n",
      " 3   pickup_longitude   120000 non-null  float64            \n",
      " 4   pickup_latitude    120000 non-null  float64            \n",
      " 5   dropoff_longitude  120000 non-null  float64            \n",
      " 6   dropoff_latitude   120000 non-null  float64            \n",
      " 7   passenger_count    120000 non-null  int64              \n",
      " 8   dist_km            120000 non-null  float64            \n",
      "dtypes: datetime64[ns, UTC](1), float64(6), int64(2)\n",
      "memory usage: 8.2 MB\n"
     ]
    }
   ],
   "source": [
    "df.info()"
   ],
   "metadata": {
    "collapsed": false
   }
  },
  {
   "cell_type": "code",
   "execution_count": 65,
   "outputs": [
    {
     "data": {
      "text/plain": "            pickup_datetime  fare_amount  fare_class  pickup_longitude  \\\n0 2010-04-19 08:17:56+00:00          6.5           0        -73.992365   \n1 2010-04-17 15:43:53+00:00          6.9           0        -73.990078   \n2 2010-04-17 11:23:26+00:00         10.1           1        -73.994149   \n3 2010-04-11 21:25:03+00:00          8.9           0        -73.990485   \n4 2010-04-17 02:19:01+00:00         19.7           1        -73.990976   \n\n   pickup_latitude  dropoff_longitude  dropoff_latitude  passenger_count  \\\n0        40.730521         -73.975499         40.744746                1   \n1        40.740558         -73.974232         40.744114                1   \n2        40.751118         -73.960064         40.766235                2   \n3        40.756422         -73.971205         40.748192                1   \n4        40.734202         -73.905956         40.743115                1   \n\n    dist_km  \n0  2.126312  \n1  1.392307  \n2  3.326763  \n3  1.864129  \n4  7.231321  ",
      "text/html": "<div>\n<style scoped>\n    .dataframe tbody tr th:only-of-type {\n        vertical-align: middle;\n    }\n\n    .dataframe tbody tr th {\n        vertical-align: top;\n    }\n\n    .dataframe thead th {\n        text-align: right;\n    }\n</style>\n<table border=\"1\" class=\"dataframe\">\n  <thead>\n    <tr style=\"text-align: right;\">\n      <th></th>\n      <th>pickup_datetime</th>\n      <th>fare_amount</th>\n      <th>fare_class</th>\n      <th>pickup_longitude</th>\n      <th>pickup_latitude</th>\n      <th>dropoff_longitude</th>\n      <th>dropoff_latitude</th>\n      <th>passenger_count</th>\n      <th>dist_km</th>\n    </tr>\n  </thead>\n  <tbody>\n    <tr>\n      <th>0</th>\n      <td>2010-04-19 08:17:56+00:00</td>\n      <td>6.5</td>\n      <td>0</td>\n      <td>-73.992365</td>\n      <td>40.730521</td>\n      <td>-73.975499</td>\n      <td>40.744746</td>\n      <td>1</td>\n      <td>2.126312</td>\n    </tr>\n    <tr>\n      <th>1</th>\n      <td>2010-04-17 15:43:53+00:00</td>\n      <td>6.9</td>\n      <td>0</td>\n      <td>-73.990078</td>\n      <td>40.740558</td>\n      <td>-73.974232</td>\n      <td>40.744114</td>\n      <td>1</td>\n      <td>1.392307</td>\n    </tr>\n    <tr>\n      <th>2</th>\n      <td>2010-04-17 11:23:26+00:00</td>\n      <td>10.1</td>\n      <td>1</td>\n      <td>-73.994149</td>\n      <td>40.751118</td>\n      <td>-73.960064</td>\n      <td>40.766235</td>\n      <td>2</td>\n      <td>3.326763</td>\n    </tr>\n    <tr>\n      <th>3</th>\n      <td>2010-04-11 21:25:03+00:00</td>\n      <td>8.9</td>\n      <td>0</td>\n      <td>-73.990485</td>\n      <td>40.756422</td>\n      <td>-73.971205</td>\n      <td>40.748192</td>\n      <td>1</td>\n      <td>1.864129</td>\n    </tr>\n    <tr>\n      <th>4</th>\n      <td>2010-04-17 02:19:01+00:00</td>\n      <td>19.7</td>\n      <td>1</td>\n      <td>-73.990976</td>\n      <td>40.734202</td>\n      <td>-73.905956</td>\n      <td>40.743115</td>\n      <td>1</td>\n      <td>7.231321</td>\n    </tr>\n  </tbody>\n</table>\n</div>"
     },
     "execution_count": 65,
     "metadata": {},
     "output_type": "execute_result"
    }
   ],
   "source": [
    "df.head()"
   ],
   "metadata": {
    "collapsed": false
   }
  },
  {
   "cell_type": "code",
   "execution_count": 66,
   "outputs": [],
   "source": [
    "my_time = df['pickup_datetime'][0]"
   ],
   "metadata": {
    "collapsed": false
   }
  },
  {
   "cell_type": "code",
   "execution_count": 67,
   "outputs": [
    {
     "data": {
      "text/plain": "8"
     },
     "execution_count": 67,
     "metadata": {},
     "output_type": "execute_result"
    }
   ],
   "source": [
    "my_time.hour"
   ],
   "metadata": {
    "collapsed": false
   }
  },
  {
   "cell_type": "code",
   "execution_count": 68,
   "outputs": [],
   "source": [
    "df['EDTdate'] = df['pickup_datetime'] - pd.Timedelta(hours=4)"
   ],
   "metadata": {
    "collapsed": false
   }
  },
  {
   "cell_type": "code",
   "execution_count": 69,
   "outputs": [],
   "source": [
    "df['Hour'] = df['EDTdate'].dt.hour\n",
    "df['AMorPM'] = np.where(df['Hour'] < 12, 'am', 'pm')"
   ],
   "metadata": {
    "collapsed": false
   }
  },
  {
   "cell_type": "code",
   "execution_count": 70,
   "outputs": [
    {
     "data": {
      "text/plain": "            pickup_datetime  fare_amount  fare_class  pickup_longitude  \\\n0 2010-04-19 08:17:56+00:00          6.5           0        -73.992365   \n1 2010-04-17 15:43:53+00:00          6.9           0        -73.990078   \n2 2010-04-17 11:23:26+00:00         10.1           1        -73.994149   \n3 2010-04-11 21:25:03+00:00          8.9           0        -73.990485   \n4 2010-04-17 02:19:01+00:00         19.7           1        -73.990976   \n\n   pickup_latitude  dropoff_longitude  dropoff_latitude  passenger_count  \\\n0        40.730521         -73.975499         40.744746                1   \n1        40.740558         -73.974232         40.744114                1   \n2        40.751118         -73.960064         40.766235                2   \n3        40.756422         -73.971205         40.748192                1   \n4        40.734202         -73.905956         40.743115                1   \n\n    dist_km                   EDTdate  Hour AMorPM  \n0  2.126312 2010-04-19 04:17:56+00:00     4     am  \n1  1.392307 2010-04-17 11:43:53+00:00    11     am  \n2  3.326763 2010-04-17 07:23:26+00:00     7     am  \n3  1.864129 2010-04-11 17:25:03+00:00    17     pm  \n4  7.231321 2010-04-16 22:19:01+00:00    22     pm  ",
      "text/html": "<div>\n<style scoped>\n    .dataframe tbody tr th:only-of-type {\n        vertical-align: middle;\n    }\n\n    .dataframe tbody tr th {\n        vertical-align: top;\n    }\n\n    .dataframe thead th {\n        text-align: right;\n    }\n</style>\n<table border=\"1\" class=\"dataframe\">\n  <thead>\n    <tr style=\"text-align: right;\">\n      <th></th>\n      <th>pickup_datetime</th>\n      <th>fare_amount</th>\n      <th>fare_class</th>\n      <th>pickup_longitude</th>\n      <th>pickup_latitude</th>\n      <th>dropoff_longitude</th>\n      <th>dropoff_latitude</th>\n      <th>passenger_count</th>\n      <th>dist_km</th>\n      <th>EDTdate</th>\n      <th>Hour</th>\n      <th>AMorPM</th>\n    </tr>\n  </thead>\n  <tbody>\n    <tr>\n      <th>0</th>\n      <td>2010-04-19 08:17:56+00:00</td>\n      <td>6.5</td>\n      <td>0</td>\n      <td>-73.992365</td>\n      <td>40.730521</td>\n      <td>-73.975499</td>\n      <td>40.744746</td>\n      <td>1</td>\n      <td>2.126312</td>\n      <td>2010-04-19 04:17:56+00:00</td>\n      <td>4</td>\n      <td>am</td>\n    </tr>\n    <tr>\n      <th>1</th>\n      <td>2010-04-17 15:43:53+00:00</td>\n      <td>6.9</td>\n      <td>0</td>\n      <td>-73.990078</td>\n      <td>40.740558</td>\n      <td>-73.974232</td>\n      <td>40.744114</td>\n      <td>1</td>\n      <td>1.392307</td>\n      <td>2010-04-17 11:43:53+00:00</td>\n      <td>11</td>\n      <td>am</td>\n    </tr>\n    <tr>\n      <th>2</th>\n      <td>2010-04-17 11:23:26+00:00</td>\n      <td>10.1</td>\n      <td>1</td>\n      <td>-73.994149</td>\n      <td>40.751118</td>\n      <td>-73.960064</td>\n      <td>40.766235</td>\n      <td>2</td>\n      <td>3.326763</td>\n      <td>2010-04-17 07:23:26+00:00</td>\n      <td>7</td>\n      <td>am</td>\n    </tr>\n    <tr>\n      <th>3</th>\n      <td>2010-04-11 21:25:03+00:00</td>\n      <td>8.9</td>\n      <td>0</td>\n      <td>-73.990485</td>\n      <td>40.756422</td>\n      <td>-73.971205</td>\n      <td>40.748192</td>\n      <td>1</td>\n      <td>1.864129</td>\n      <td>2010-04-11 17:25:03+00:00</td>\n      <td>17</td>\n      <td>pm</td>\n    </tr>\n    <tr>\n      <th>4</th>\n      <td>2010-04-17 02:19:01+00:00</td>\n      <td>19.7</td>\n      <td>1</td>\n      <td>-73.990976</td>\n      <td>40.734202</td>\n      <td>-73.905956</td>\n      <td>40.743115</td>\n      <td>1</td>\n      <td>7.231321</td>\n      <td>2010-04-16 22:19:01+00:00</td>\n      <td>22</td>\n      <td>pm</td>\n    </tr>\n  </tbody>\n</table>\n</div>"
     },
     "execution_count": 70,
     "metadata": {},
     "output_type": "execute_result"
    }
   ],
   "source": [
    "df.head()"
   ],
   "metadata": {
    "collapsed": false
   }
  },
  {
   "cell_type": "code",
   "execution_count": 71,
   "outputs": [],
   "source": [
    "df['Weekday'] = df['EDTdate'].dt.strftime(\"%a\")"
   ],
   "metadata": {
    "collapsed": false
   }
  },
  {
   "cell_type": "code",
   "execution_count": 72,
   "outputs": [
    {
     "data": {
      "text/plain": "            pickup_datetime  fare_amount  fare_class  pickup_longitude  \\\n0 2010-04-19 08:17:56+00:00          6.5           0        -73.992365   \n1 2010-04-17 15:43:53+00:00          6.9           0        -73.990078   \n2 2010-04-17 11:23:26+00:00         10.1           1        -73.994149   \n3 2010-04-11 21:25:03+00:00          8.9           0        -73.990485   \n4 2010-04-17 02:19:01+00:00         19.7           1        -73.990976   \n\n   pickup_latitude  dropoff_longitude  dropoff_latitude  passenger_count  \\\n0        40.730521         -73.975499         40.744746                1   \n1        40.740558         -73.974232         40.744114                1   \n2        40.751118         -73.960064         40.766235                2   \n3        40.756422         -73.971205         40.748192                1   \n4        40.734202         -73.905956         40.743115                1   \n\n    dist_km                   EDTdate  Hour AMorPM Weekday  \n0  2.126312 2010-04-19 04:17:56+00:00     4     am     Mon  \n1  1.392307 2010-04-17 11:43:53+00:00    11     am     Sat  \n2  3.326763 2010-04-17 07:23:26+00:00     7     am     Sat  \n3  1.864129 2010-04-11 17:25:03+00:00    17     pm     Sun  \n4  7.231321 2010-04-16 22:19:01+00:00    22     pm     Fri  ",
      "text/html": "<div>\n<style scoped>\n    .dataframe tbody tr th:only-of-type {\n        vertical-align: middle;\n    }\n\n    .dataframe tbody tr th {\n        vertical-align: top;\n    }\n\n    .dataframe thead th {\n        text-align: right;\n    }\n</style>\n<table border=\"1\" class=\"dataframe\">\n  <thead>\n    <tr style=\"text-align: right;\">\n      <th></th>\n      <th>pickup_datetime</th>\n      <th>fare_amount</th>\n      <th>fare_class</th>\n      <th>pickup_longitude</th>\n      <th>pickup_latitude</th>\n      <th>dropoff_longitude</th>\n      <th>dropoff_latitude</th>\n      <th>passenger_count</th>\n      <th>dist_km</th>\n      <th>EDTdate</th>\n      <th>Hour</th>\n      <th>AMorPM</th>\n      <th>Weekday</th>\n    </tr>\n  </thead>\n  <tbody>\n    <tr>\n      <th>0</th>\n      <td>2010-04-19 08:17:56+00:00</td>\n      <td>6.5</td>\n      <td>0</td>\n      <td>-73.992365</td>\n      <td>40.730521</td>\n      <td>-73.975499</td>\n      <td>40.744746</td>\n      <td>1</td>\n      <td>2.126312</td>\n      <td>2010-04-19 04:17:56+00:00</td>\n      <td>4</td>\n      <td>am</td>\n      <td>Mon</td>\n    </tr>\n    <tr>\n      <th>1</th>\n      <td>2010-04-17 15:43:53+00:00</td>\n      <td>6.9</td>\n      <td>0</td>\n      <td>-73.990078</td>\n      <td>40.740558</td>\n      <td>-73.974232</td>\n      <td>40.744114</td>\n      <td>1</td>\n      <td>1.392307</td>\n      <td>2010-04-17 11:43:53+00:00</td>\n      <td>11</td>\n      <td>am</td>\n      <td>Sat</td>\n    </tr>\n    <tr>\n      <th>2</th>\n      <td>2010-04-17 11:23:26+00:00</td>\n      <td>10.1</td>\n      <td>1</td>\n      <td>-73.994149</td>\n      <td>40.751118</td>\n      <td>-73.960064</td>\n      <td>40.766235</td>\n      <td>2</td>\n      <td>3.326763</td>\n      <td>2010-04-17 07:23:26+00:00</td>\n      <td>7</td>\n      <td>am</td>\n      <td>Sat</td>\n    </tr>\n    <tr>\n      <th>3</th>\n      <td>2010-04-11 21:25:03+00:00</td>\n      <td>8.9</td>\n      <td>0</td>\n      <td>-73.990485</td>\n      <td>40.756422</td>\n      <td>-73.971205</td>\n      <td>40.748192</td>\n      <td>1</td>\n      <td>1.864129</td>\n      <td>2010-04-11 17:25:03+00:00</td>\n      <td>17</td>\n      <td>pm</td>\n      <td>Sun</td>\n    </tr>\n    <tr>\n      <th>4</th>\n      <td>2010-04-17 02:19:01+00:00</td>\n      <td>19.7</td>\n      <td>1</td>\n      <td>-73.990976</td>\n      <td>40.734202</td>\n      <td>-73.905956</td>\n      <td>40.743115</td>\n      <td>1</td>\n      <td>7.231321</td>\n      <td>2010-04-16 22:19:01+00:00</td>\n      <td>22</td>\n      <td>pm</td>\n      <td>Fri</td>\n    </tr>\n  </tbody>\n</table>\n</div>"
     },
     "execution_count": 72,
     "metadata": {},
     "output_type": "execute_result"
    }
   ],
   "source": [
    "df.head()"
   ],
   "metadata": {
    "collapsed": false
   }
  },
  {
   "cell_type": "code",
   "execution_count": 73,
   "outputs": [],
   "source": [
    "cat_cols = ['Hour', 'AMorPM', 'Weekday']\n",
    "cont_cols = ['pickup_latitude', 'pickup_longitude', 'dropoff_latitude', 'dropoff_longitude', 'passenger_count', 'dist_km']"
   ],
   "metadata": {
    "collapsed": false
   }
  },
  {
   "cell_type": "code",
   "execution_count": 74,
   "outputs": [],
   "source": [
    "y_col = ['fare_amount']"
   ],
   "metadata": {
    "collapsed": false
   }
  },
  {
   "cell_type": "code",
   "execution_count": 75,
   "outputs": [
    {
     "data": {
      "text/plain": "pickup_datetime      datetime64[ns, UTC]\nfare_amount                      float64\nfare_class                         int64\npickup_longitude                 float64\npickup_latitude                  float64\ndropoff_longitude                float64\ndropoff_latitude                 float64\npassenger_count                    int64\ndist_km                          float64\nEDTdate              datetime64[ns, UTC]\nHour                               int64\nAMorPM                            object\nWeekday                           object\ndtype: object"
     },
     "execution_count": 75,
     "metadata": {},
     "output_type": "execute_result"
    }
   ],
   "source": [
    "df.dtypes"
   ],
   "metadata": {
    "collapsed": false
   }
  },
  {
   "cell_type": "code",
   "execution_count": 76,
   "outputs": [],
   "source": [
    "for cat in cat_cols:\n",
    "    df[cat] = df[cat].astype('category')"
   ],
   "metadata": {
    "collapsed": false
   }
  },
  {
   "cell_type": "code",
   "execution_count": 77,
   "outputs": [
    {
     "data": {
      "text/plain": "pickup_datetime      datetime64[ns, UTC]\nfare_amount                      float64\nfare_class                         int64\npickup_longitude                 float64\npickup_latitude                  float64\ndropoff_longitude                float64\ndropoff_latitude                 float64\npassenger_count                    int64\ndist_km                          float64\nEDTdate              datetime64[ns, UTC]\nHour                            category\nAMorPM                          category\nWeekday                         category\ndtype: object"
     },
     "execution_count": 77,
     "metadata": {},
     "output_type": "execute_result"
    }
   ],
   "source": [
    "df.dtypes"
   ],
   "metadata": {
    "collapsed": false
   }
  },
  {
   "cell_type": "code",
   "execution_count": 78,
   "outputs": [
    {
     "data": {
      "text/plain": "0     4\n1    11\n2     7\n3    17\n4    22\nName: Hour, dtype: category\nCategories (24, int64): [0, 1, 2, 3, ..., 20, 21, 22, 23]"
     },
     "execution_count": 78,
     "metadata": {},
     "output_type": "execute_result"
    }
   ],
   "source": [
    "df['Hour'].head()"
   ],
   "metadata": {
    "collapsed": false
   }
  },
  {
   "cell_type": "code",
   "execution_count": 79,
   "outputs": [
    {
     "data": {
      "text/plain": "0    am\n1    am\n2    am\n3    pm\n4    pm\nName: AMorPM, dtype: category\nCategories (2, object): ['am', 'pm']"
     },
     "execution_count": 79,
     "metadata": {},
     "output_type": "execute_result"
    }
   ],
   "source": [
    "df['AMorPM'].head()"
   ],
   "metadata": {
    "collapsed": false
   }
  },
  {
   "cell_type": "code",
   "execution_count": 80,
   "outputs": [
    {
     "data": {
      "text/plain": "0    Mon\n1    Sat\n2    Sat\n3    Sun\n4    Fri\nName: Weekday, dtype: category\nCategories (7, object): ['Fri', 'Mon', 'Sat', 'Sun', 'Thu', 'Tue', 'Wed']"
     },
     "execution_count": 80,
     "metadata": {},
     "output_type": "execute_result"
    }
   ],
   "source": [
    "df['Weekday'].head()"
   ],
   "metadata": {
    "collapsed": false
   }
  },
  {
   "cell_type": "code",
   "execution_count": 81,
   "outputs": [
    {
     "data": {
      "text/plain": "Index(['am', 'pm'], dtype='object')"
     },
     "execution_count": 81,
     "metadata": {},
     "output_type": "execute_result"
    }
   ],
   "source": [
    "df['AMorPM'].cat.categories"
   ],
   "metadata": {
    "collapsed": false
   }
  },
  {
   "cell_type": "code",
   "execution_count": 82,
   "outputs": [],
   "source": [
    "hr = df['Hour'].cat.codes.values\n",
    "ampm = df['AMorPM'].cat.codes.values\n",
    "wkdy = df['Weekday'].cat.codes.values"
   ],
   "metadata": {
    "collapsed": false
   }
  },
  {
   "cell_type": "code",
   "execution_count": 83,
   "outputs": [
    {
     "data": {
      "text/plain": "array([ 4, 11,  7, ..., 14,  4, 12], dtype=int8)"
     },
     "execution_count": 83,
     "metadata": {},
     "output_type": "execute_result"
    }
   ],
   "source": [
    "hr"
   ],
   "metadata": {
    "collapsed": false
   }
  },
  {
   "cell_type": "code",
   "execution_count": 84,
   "outputs": [],
   "source": [
    "cats = np.stack([hr, ampm, wkdy], axis=1)"
   ],
   "metadata": {
    "collapsed": false
   }
  },
  {
   "cell_type": "code",
   "execution_count": 85,
   "outputs": [
    {
     "data": {
      "text/plain": "array([[ 4,  0,  1],\n       [11,  0,  2],\n       [ 7,  0,  2],\n       ...,\n       [14,  1,  3],\n       [ 4,  0,  5],\n       [12,  1,  2]], dtype=int8)"
     },
     "execution_count": 85,
     "metadata": {},
     "output_type": "execute_result"
    }
   ],
   "source": [
    "cats"
   ],
   "metadata": {
    "collapsed": false
   }
  },
  {
   "cell_type": "code",
   "execution_count": 86,
   "outputs": [],
   "source": [
    "#conts = np.stack([df[col].values for col in cont_cols], 1) #All in one line"
   ],
   "metadata": {
    "collapsed": false
   }
  },
  {
   "cell_type": "code",
   "execution_count": 87,
   "outputs": [],
   "source": [
    "cats = torch.tensor(cats, dtype=torch.int64)"
   ],
   "metadata": {
    "collapsed": false
   }
  },
  {
   "cell_type": "code",
   "execution_count": 88,
   "outputs": [],
   "source": [
    "conts = np.stack([df[col].values for col in cont_cols], axis=1)"
   ],
   "metadata": {
    "collapsed": false
   }
  },
  {
   "cell_type": "code",
   "execution_count": 89,
   "outputs": [
    {
     "data": {
      "text/plain": "array([[ 40.730521  , -73.992365  ,  40.744746  , -73.975499  ,\n          1.        ,   2.12631159],\n       [ 40.740558  , -73.990078  ,  40.744114  , -73.974232  ,\n          1.        ,   1.39230687],\n       [ 40.751118  , -73.994149  ,  40.766235  , -73.960064  ,\n          2.        ,   3.32676344],\n       ...,\n       [ 40.749772  , -73.988574  ,  40.707799  , -74.011541  ,\n          3.        ,   5.05252282],\n       [ 40.724529  , -74.004449  ,  40.730765  , -73.992697  ,\n          1.        ,   1.20892296],\n       [ 40.77192   , -73.955415  ,  40.763015  , -73.967623  ,\n          3.        ,   1.42739869]])"
     },
     "execution_count": 89,
     "metadata": {},
     "output_type": "execute_result"
    }
   ],
   "source": [
    "conts"
   ],
   "metadata": {
    "collapsed": false
   }
  },
  {
   "cell_type": "code",
   "execution_count": 90,
   "outputs": [
    {
     "data": {
      "text/plain": "tensor([[ 40.7305, -73.9924,  40.7447, -73.9755,   1.0000,   2.1263],\n        [ 40.7406, -73.9901,  40.7441, -73.9742,   1.0000,   1.3923],\n        [ 40.7511, -73.9941,  40.7662, -73.9601,   2.0000,   3.3268],\n        ...,\n        [ 40.7498, -73.9886,  40.7078, -74.0115,   3.0000,   5.0525],\n        [ 40.7245, -74.0044,  40.7308, -73.9927,   1.0000,   1.2089],\n        [ 40.7719, -73.9554,  40.7630, -73.9676,   3.0000,   1.4274]])"
     },
     "execution_count": 90,
     "metadata": {},
     "output_type": "execute_result"
    }
   ],
   "source": [
    "conts = torch.tensor(conts, dtype=torch.float)\n",
    "conts"
   ],
   "metadata": {
    "collapsed": false
   }
  },
  {
   "cell_type": "code",
   "execution_count": 91,
   "outputs": [],
   "source": [
    "y = torch.tensor(df[y_col].values, dtype=torch.float)"
   ],
   "metadata": {
    "collapsed": false
   }
  },
  {
   "cell_type": "code",
   "execution_count": 92,
   "outputs": [
    {
     "data": {
      "text/plain": "torch.Size([120000, 3])"
     },
     "execution_count": 92,
     "metadata": {},
     "output_type": "execute_result"
    }
   ],
   "source": [
    "cats.shape"
   ],
   "metadata": {
    "collapsed": false
   }
  },
  {
   "cell_type": "code",
   "execution_count": 93,
   "outputs": [
    {
     "data": {
      "text/plain": "torch.Size([120000, 6])"
     },
     "execution_count": 93,
     "metadata": {},
     "output_type": "execute_result"
    }
   ],
   "source": [
    "conts.shape"
   ],
   "metadata": {
    "collapsed": false
   }
  },
  {
   "cell_type": "code",
   "execution_count": 94,
   "outputs": [
    {
     "data": {
      "text/plain": "torch.Size([120000, 1])"
     },
     "execution_count": 94,
     "metadata": {},
     "output_type": "execute_result"
    }
   ],
   "source": [
    "y.shape"
   ],
   "metadata": {
    "collapsed": false
   }
  },
  {
   "cell_type": "code",
   "execution_count": 95,
   "outputs": [],
   "source": [
    "cat_szs = [len(df[col].cat.categories) for col in cat_cols]"
   ],
   "metadata": {
    "collapsed": false
   }
  },
  {
   "cell_type": "code",
   "execution_count": 96,
   "outputs": [
    {
     "data": {
      "text/plain": "[24, 2, 7]"
     },
     "execution_count": 96,
     "metadata": {},
     "output_type": "execute_result"
    }
   ],
   "source": [
    "cat_szs"
   ],
   "metadata": {
    "collapsed": false
   }
  },
  {
   "cell_type": "code",
   "execution_count": 97,
   "outputs": [],
   "source": [
    "emb_szs = [(size, min(50, (size+1)//2)) for size in cat_szs]"
   ],
   "metadata": {
    "collapsed": false
   }
  },
  {
   "cell_type": "code",
   "execution_count": 98,
   "outputs": [
    {
     "data": {
      "text/plain": "[(24, 12), (2, 1), (7, 4)]"
     },
     "execution_count": 98,
     "metadata": {},
     "output_type": "execute_result"
    }
   ],
   "source": [
    "emb_szs"
   ],
   "metadata": {
    "collapsed": false
   }
  },
  {
   "cell_type": "code",
   "execution_count": 99,
   "outputs": [
    {
     "data": {
      "text/plain": "tensor([[ 4,  0,  1],\n        [11,  0,  2],\n        [ 7,  0,  2],\n        [17,  1,  3]])"
     },
     "execution_count": 99,
     "metadata": {},
     "output_type": "execute_result"
    }
   ],
   "source": [
    "catz = cats[:4]\n",
    "catz"
   ],
   "metadata": {
    "collapsed": false
   }
  },
  {
   "cell_type": "code",
   "execution_count": 100,
   "outputs": [],
   "source": [
    "selfembeds = nn.ModuleList([nn.Embedding(ni, nf) for ni, nf in emb_szs])"
   ],
   "metadata": {
    "collapsed": false
   }
  },
  {
   "cell_type": "code",
   "execution_count": 101,
   "outputs": [
    {
     "data": {
      "text/plain": "ModuleList(\n  (0): Embedding(24, 12)\n  (1): Embedding(2, 1)\n  (2): Embedding(7, 4)\n)"
     },
     "execution_count": 101,
     "metadata": {},
     "output_type": "execute_result"
    }
   ],
   "source": [
    "selfembeds"
   ],
   "metadata": {
    "collapsed": false
   }
  },
  {
   "cell_type": "code",
   "execution_count": 102,
   "outputs": [],
   "source": [
    "embeddingz = []\n",
    "\n",
    "for i, e in enumerate(selfembeds):\n",
    "    embeddingz.append(e(catz[:, i]))"
   ],
   "metadata": {
    "collapsed": false
   }
  },
  {
   "cell_type": "code",
   "execution_count": 103,
   "outputs": [
    {
     "data": {
      "text/plain": "[tensor([[ 0.5239,  1.4955,  1.5253, -0.1484,  0.2639,  0.0946,  0.5056, -0.7588,\n          -1.8369,  1.2613, -0.2227, -0.5987],\n         [ 0.5402,  0.1182,  0.8214,  0.3851,  0.2715,  1.4132, -0.5995,  1.2064,\n          -0.4936, -0.5445,  0.2351,  1.3746],\n         [-0.3148, -0.3583,  0.2698,  0.8619,  0.9939, -1.3755, -0.4607,  2.0831,\n          -1.8745, -1.5309,  0.1110,  0.0202],\n         [ 1.1118,  0.3630, -0.3315, -1.8846, -0.7711,  0.5470,  0.2441, -0.2168,\n          -0.2775, -1.8341,  0.2365,  0.6101]], grad_fn=<EmbeddingBackward0>),\n tensor([[-0.6042],\n         [-0.6042],\n         [-0.6042],\n         [ 0.1413]], grad_fn=<EmbeddingBackward0>),\n tensor([[-0.7845, -0.6721, -0.8533, -2.3243],\n         [ 0.3678,  0.0050,  0.5109, -2.3530],\n         [ 0.3678,  0.0050,  0.5109, -2.3530],\n         [-1.5667,  0.1767,  0.1913, -0.7869]], grad_fn=<EmbeddingBackward0>)]"
     },
     "execution_count": 103,
     "metadata": {},
     "output_type": "execute_result"
    }
   ],
   "source": [
    "embeddingz"
   ],
   "metadata": {
    "collapsed": false
   }
  },
  {
   "cell_type": "code",
   "execution_count": 104,
   "outputs": [
    {
     "data": {
      "text/plain": "tensor([[ 0.5239,  1.4955,  1.5253, -0.1484,  0.2639,  0.0946,  0.5056, -0.7588,\n         -1.8369,  1.2613, -0.2227, -0.5987, -0.6042, -0.7845, -0.6721, -0.8533,\n         -2.3243],\n        [ 0.5402,  0.1182,  0.8214,  0.3851,  0.2715,  1.4132, -0.5995,  1.2064,\n         -0.4936, -0.5445,  0.2351,  1.3746, -0.6042,  0.3678,  0.0050,  0.5109,\n         -2.3530],\n        [-0.3148, -0.3583,  0.2698,  0.8619,  0.9939, -1.3755, -0.4607,  2.0831,\n         -1.8745, -1.5309,  0.1110,  0.0202, -0.6042,  0.3678,  0.0050,  0.5109,\n         -2.3530],\n        [ 1.1118,  0.3630, -0.3315, -1.8846, -0.7711,  0.5470,  0.2441, -0.2168,\n         -0.2775, -1.8341,  0.2365,  0.6101,  0.1413, -1.5667,  0.1767,  0.1913,\n         -0.7869]], grad_fn=<CatBackward0>)"
     },
     "execution_count": 104,
     "metadata": {},
     "output_type": "execute_result"
    }
   ],
   "source": [
    "z = torch.cat(embeddingz, 1)\n",
    "z"
   ],
   "metadata": {
    "collapsed": false
   }
  },
  {
   "cell_type": "code",
   "execution_count": 105,
   "outputs": [],
   "source": [
    "selfembdrop = nn.Dropout(0.4)"
   ],
   "metadata": {
    "collapsed": false
   }
  },
  {
   "cell_type": "code",
   "execution_count": 106,
   "outputs": [
    {
     "data": {
      "text/plain": "tensor([[ 0.8731,  2.4925,  2.5422, -0.0000,  0.0000,  0.0000,  0.0000, -0.0000,\n         -3.0614,  0.0000, -0.0000, -0.0000, -0.0000, -0.0000, -1.1202, -0.0000,\n         -3.8738],\n        [ 0.0000,  0.1970,  1.3690,  0.6419,  0.0000,  2.3553, -0.9992,  0.0000,\n         -0.0000, -0.0000,  0.3918,  0.0000, -1.0069,  0.0000,  0.0000,  0.8515,\n         -3.9216],\n        [-0.5246, -0.5972,  0.4497,  1.4366,  1.6564, -2.2926, -0.0000,  3.4718,\n         -3.1242, -2.5515,  0.0000,  0.0336, -0.0000,  0.6130,  0.0000,  0.8515,\n         -3.9216],\n        [ 0.0000,  0.0000, -0.5525, -3.1410, -0.0000,  0.0000,  0.0000, -0.3613,\n         -0.4625, -3.0568,  0.3942,  1.0168,  0.2354, -0.0000,  0.0000,  0.3188,\n         -1.3115]], grad_fn=<MulBackward0>)"
     },
     "execution_count": 106,
     "metadata": {},
     "output_type": "execute_result"
    }
   ],
   "source": [
    "z = selfembdrop(z)\n",
    "z"
   ],
   "metadata": {
    "collapsed": false
   }
  },
  {
   "cell_type": "code",
   "execution_count": 112,
   "outputs": [],
   "source": [
    "class TabularModel(nn.Module):\n",
    "    '''\n",
    "    Layers is [h1, h2, etc.]\n",
    "    '''\n",
    "    def __init__(self, emb_szs, n_cont, out_sz, layers, p=0.5): #emb_szs is number of cat, n_cont is number of continuous\n",
    "        super().__init__()\n",
    "\n",
    "        self.embeds = nn.ModuleList([nn.Embedding(ni, nf) for ni, nf in emb_szs])\n",
    "        self.emb_drop = nn.Dropout(p) #Turn off a percentage of the neurons in an input tensor. This is to avoid overfitting, very common\n",
    "        self.bn_cont = nn.BatchNorm1d(n_cont)\n",
    "\n",
    "        layerlist = []\n",
    "        n_emb = sum([nf for ni, nf in emb_szs])\n",
    "        n_in = n_emb + n_cont\n",
    "\n",
    "        for i in layers:\n",
    "            layerlist.append(nn.Linear(n_in, i)) #Look at basic ANN to understand better.\n",
    "            layerlist.append(nn.ReLU(inplace=True))\n",
    "            layerlist.append(nn.BatchNorm1d(i))\n",
    "            layerlist.append(nn.Dropout(p))\n",
    "            n_in = i\n",
    "        layerlist.append(nn.Linear(layers[-1], out_sz))\n",
    "\n",
    "        #Sequential pipes every nn layer to the next layer. Every layer is ambiguous. The form of the sequence is done in the for loop.\n",
    "        self.layers = nn.Sequential(*layerlist) #https://pytorch.org/docs/stable/generated/torch.nn.Sequential.html?highlight=sequential#torch.nn.Sequential\n",
    "        #Look at the first example in the URL.\n",
    "\n",
    "\n",
    "    def forward(self, x_cat, x_cont): #This is one sample of x_cat, one sample of x_cont\n",
    "        embeddings = []\n",
    "\n",
    "        for i, e in enumerate(self.embeds):\n",
    "            embeddings.append(e(x_cat[:, i])) #The whole column but the column is just 1 because its 1 sample, i\n",
    "\n",
    "        x = torch.cat(embeddings, 1) #1 is axis\n",
    "        x = self.emb_drop(x)\n",
    "\n",
    "        x_cont = self.bn_cont(x_cont)\n",
    "        x = torch.cat([x, x_cont], 1)\n",
    "        x = self.layers(x) #Plug the sample into the layers...\n",
    "        return x"
   ],
   "metadata": {
    "collapsed": false
   }
  },
  {
   "cell_type": "code",
   "execution_count": 113,
   "outputs": [],
   "source": [
    "torch.manual_seed(33)\n",
    "model = TabularModel(emb_szs, conts.shape[1], 1, [200, 100], p=0.4)"
   ],
   "metadata": {
    "collapsed": false
   }
  },
  {
   "cell_type": "code",
   "execution_count": 114,
   "outputs": [
    {
     "data": {
      "text/plain": "TabularModel(\n  (embeds): ModuleList(\n    (0): Embedding(24, 12)\n    (1): Embedding(2, 1)\n    (2): Embedding(7, 4)\n  )\n  (emb_drop): Dropout(p=0.4, inplace=False)\n  (bn_cont): BatchNorm1d(6, eps=1e-05, momentum=0.1, affine=True, track_running_stats=True)\n  (layers): Sequential(\n    (0): Linear(in_features=23, out_features=200, bias=True)\n    (1): ReLU(inplace=True)\n    (2): BatchNorm1d(200, eps=1e-05, momentum=0.1, affine=True, track_running_stats=True)\n    (3): Dropout(p=0.4, inplace=False)\n    (4): Linear(in_features=200, out_features=100, bias=True)\n    (5): ReLU(inplace=True)\n    (6): BatchNorm1d(100, eps=1e-05, momentum=0.1, affine=True, track_running_stats=True)\n    (7): Dropout(p=0.4, inplace=False)\n    (8): Linear(in_features=100, out_features=1, bias=True)\n  )\n)"
     },
     "execution_count": 114,
     "metadata": {},
     "output_type": "execute_result"
    }
   ],
   "source": [
    "model"
   ],
   "metadata": {
    "collapsed": false
   }
  },
  {
   "cell_type": "code",
   "execution_count": 115,
   "outputs": [],
   "source": [
    "criterion = nn.MSELoss() # np.sqrt(MSE) --> RMSE Root Mean Square EnvironmentError\n",
    "optimizer = torch.optim.Adam(model.parameters(), lr = 0.001)"
   ],
   "metadata": {
    "collapsed": false
   }
  },
  {
   "cell_type": "code",
   "execution_count": 116,
   "outputs": [],
   "source": [
    "batch_size = 60000\n",
    "test_size = int(batch_size*0.2)"
   ],
   "metadata": {
    "collapsed": false
   }
  },
  {
   "cell_type": "code",
   "execution_count": 117,
   "outputs": [],
   "source": [
    "cat_train = cats[:batch_size-test_size] #:48000\n",
    "cat_test = cats[batch_size-test_size:batch_size]#48000:60000\n",
    "con_train = conts[:batch_size-test_size]#:48000\n",
    "con_test = conts[batch_size-test_size:batch_size]#48000:60000"
   ],
   "metadata": {
    "collapsed": false
   }
  },
  {
   "cell_type": "code",
   "execution_count": 118,
   "outputs": [],
   "source": [
    "y_train = y[:batch_size-test_size] #:48000\n",
    "y_test = y[batch_size-test_size:batch_size]#48000:60000"
   ],
   "metadata": {
    "collapsed": false
   }
  },
  {
   "cell_type": "code",
   "execution_count": 119,
   "outputs": [
    {
     "name": "stdout",
     "output_type": "stream",
     "text": [
      "epoch: 1 loss is 12.56900405883789\n",
      "epoch: 11 loss is 11.707260131835938\n",
      "epoch: 21 loss is 11.12645435333252\n",
      "epoch: 31 loss is 10.723567962646484\n",
      "epoch: 41 loss is 10.453316688537598\n",
      "epoch: 51 loss is 10.229125022888184\n",
      "epoch: 61 loss is 10.02641773223877\n",
      "epoch: 71 loss is 9.842267990112305\n",
      "epoch: 81 loss is 9.637164115905762\n",
      "epoch: 91 loss is 9.42833137512207\n",
      "epoch: 101 loss is 9.197369575500488\n",
      "epoch: 111 loss is 8.908584594726562\n",
      "epoch: 121 loss is 8.60515022277832\n",
      "epoch: 131 loss is 8.245292663574219\n",
      "epoch: 141 loss is 7.8454084396362305\n",
      "epoch: 151 loss is 7.404979228973389\n",
      "epoch: 161 loss is 6.963526725769043\n",
      "epoch: 171 loss is 6.499785423278809\n",
      "epoch: 181 loss is 6.006546974182129\n",
      "epoch: 191 loss is 5.509850978851318\n",
      "epoch: 201 loss is 5.040947437286377\n",
      "epoch: 211 loss is 4.6504998207092285\n",
      "epoch: 221 loss is 4.355270862579346\n",
      "epoch: 231 loss is 4.104333877563477\n",
      "epoch: 241 loss is 3.9275684356689453\n",
      "epoch: 251 loss is 3.8858020305633545\n",
      "epoch: 261 loss is 3.792717456817627\n",
      "epoch: 271 loss is 3.7882192134857178\n",
      "epoch: 281 loss is 3.7508387565612793\n",
      "epoch: 291 loss is 3.7293894290924072\n",
      "Training took 1.155754021803538 minutes\n"
     ]
    }
   ],
   "source": [
    "import time\n",
    "\n",
    "start_time = time.time()\n",
    "\n",
    "epochs = 300\n",
    "\n",
    "losses = []\n",
    "\n",
    "for i in range(epochs):\n",
    "    i += 1\n",
    "\n",
    "    y_pred = model(cat_train, con_train)\n",
    "    loss = torch.sqrt(criterion(y_pred, y_train)) #RMSE\n",
    "    losses.append(loss)\n",
    "\n",
    "    if i%10 == 1:\n",
    "        print(f'epoch: {i} loss is {loss}')\n",
    "\n",
    "    optimizer.zero_grad()\n",
    "    loss.backward()\n",
    "    optimizer.step()\n",
    "\n",
    "duration = time.time() - start_time\n",
    "print(f'Training took {duration/60} minutes')"
   ],
   "metadata": {
    "collapsed": false
   }
  },
  {
   "cell_type": "code",
   "execution_count": 121,
   "outputs": [
    {
     "data": {
      "text/plain": "<Figure size 432x288 with 1 Axes>",
      "image/png": "[encoded data removed]"
     },
     "metadata": {
      "needs_background": "light"
     },
     "output_type": "display_data"
    }
   ],
   "source": [
    "with torch.no_grad():\n",
    "    plt.plot(range(epochs), losses)"
   ],
   "metadata": {
    "collapsed": false
   }
  },
  {
   "cell_type": "code",
   "execution_count": 122,
   "outputs": [],
   "source": [
    "with torch.no_grad():\n",
    "    y_val = model(cat_test, con_test) #this is where you input into novel data. Check the official notebook to see how to input() from keyboard.\n",
    "    loss = torch.sqrt(criterion(y_val, y_test))"
   ],
   "metadata": {
    "collapsed": false
   }
  },
  {
   "cell_type": "code",
   "execution_count": 123,
   "outputs": [
    {
     "data": {
      "text/plain": "tensor(3.6240)"
     },
     "execution_count": 123,
     "metadata": {},
     "output_type": "execute_result"
    }
   ],
   "source": [
    "loss"
   ],
   "metadata": {
    "collapsed": false
   }
  },
  {
   "cell_type": "code",
   "execution_count": 125,
   "outputs": [
    {
     "name": "stdout",
     "output_type": "stream",
     "text": [
      "0.) PREDICTED:     4.13 TRUE:     2.90 DIFF:     1.23\n",
      "1.) PREDICTED:    14.59 TRUE:     5.70 DIFF:     8.89\n",
      "2.) PREDICTED:     7.00 TRUE:     7.70 DIFF:     0.70\n",
      "3.) PREDICTED:    14.73 TRUE:    12.50 DIFF:     2.23\n",
      "4.) PREDICTED:     5.83 TRUE:     4.10 DIFF:     1.73\n",
      "5.) PREDICTED:     5.25 TRUE:     5.30 DIFF:     0.05\n",
      "6.) PREDICTED:     4.71 TRUE:     3.70 DIFF:     1.01\n",
      "7.) PREDICTED:    20.19 TRUE:    14.50 DIFF:     5.69\n",
      "8.) PREDICTED:     9.60 TRUE:     5.70 DIFF:     3.90\n",
      "9.) PREDICTED:    12.61 TRUE:    10.10 DIFF:     2.51\n"
     ]
    }
   ],
   "source": [
    "for i in range(10):\n",
    "    diff = np.abs(y_val[i].item() - y_test[i].item())\n",
    "    print(f'{i}.) PREDICTED: {y_val[i].item():8.2f} TRUE: {y_test[i].item():8.2f} DIFF: {diff:8.2f}')"
   ],
   "metadata": {
    "collapsed": false
   }
  },
  {
   "cell_type": "code",
   "execution_count": 126,
   "outputs": [],
   "source": [
    "torch.save(model.state_dict(), 'TaxiModel.pt')"
   ],
   "metadata": {
    "collapsed": false
   }
  }
 ],
 "metadata": {
  "kernelspec": {
   "display_name": "Python 3",
   "language": "python",
   "name": "python3"
  },
  "language_info": {
   "codemirror_mode": {
    "name": "ipython",
    "version": 2
   },
   "file_extension": ".py",
   "mimetype": "text/x-python",
   "name": "python",
   "nbconvert_exporter": "python",
   "pygments_lexer": "ipython2",
   "version": "2.7.6"
  }
 },
 "nbformat": 4,
 "nbformat_minor": 0
}
