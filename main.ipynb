{
 "cells": [
  {
   "cell_type": "code",
   "execution_count": 6,
   "metadata": {
    "collapsed": true
   },
   "outputs": [],
   "source": [
    "import torch\n",
    "import torch.nn as nn\n",
    "import torch.nn.functional as F\n",
    "from torch.utils.data import DataLoader\n",
    "from torchvision import datasets, transforms\n",
    "from torchvision.utils import make_grid\n",
    "\n",
    "import numpy as np\n",
    "import pandas as pd\n",
    "from sklearn.metrics import confusion_matrix\n",
    "import matplotlib.pyplot as plt\n",
    "%matplotlib inline"
   ]
  },
  {
   "cell_type": "code",
   "execution_count": 7,
   "outputs": [],
   "source": [
    "transform = transforms.ToTensor()"
   ],
   "metadata": {
    "collapsed": false
   }
  },
  {
   "cell_type": "code",
   "execution_count": 13,
   "outputs": [],
   "source": [
    "train_data = datasets.MNIST(root='datasets', train=True, download=True, transform=transform)"
   ],
   "metadata": {
    "collapsed": false
   }
  },
  {
   "cell_type": "code",
   "execution_count": 14,
   "outputs": [],
   "source": [
    "test_data = datasets.MNIST(root='datasets', train=False, download=True, transform=transform)"
   ],
   "metadata": {
    "collapsed": false
   }
  },
  {
   "cell_type": "code",
   "execution_count": 15,
   "outputs": [
    {
     "data": {
      "text/plain": "Dataset MNIST\n    Number of datapoints: 60000\n    Split: train\n    Root Location: datasets\n    Transforms (if any): ToTensor()\n    Target Transforms (if any): None"
     },
     "execution_count": 15,
     "metadata": {},
     "output_type": "execute_result"
    }
   ],
   "source": [
    "train_data"
   ],
   "metadata": {
    "collapsed": false
   }
  },
  {
   "cell_type": "code",
   "execution_count": 16,
   "outputs": [
    {
     "data": {
      "text/plain": "Dataset MNIST\n    Number of datapoints: 10000\n    Split: test\n    Root Location: datasets\n    Transforms (if any): ToTensor()\n    Target Transforms (if any): None"
     },
     "execution_count": 16,
     "metadata": {},
     "output_type": "execute_result"
    }
   ],
   "source": [
    "test_data"
   ],
   "metadata": {
    "collapsed": false
   }
  },
  {
   "cell_type": "code",
   "execution_count": 17,
   "outputs": [],
   "source": [
    "train_loader = DataLoader(train_data, batch_size=10, shuffle=True)\n",
    "test_loader = DataLoader(test_data, batch_size=10, shuffle=False)"
   ],
   "metadata": {
    "collapsed": false
   }
  },
  {
   "cell_type": "code",
   "execution_count": 18,
   "outputs": [],
   "source": [
    "# 1 color channel, 6 filters (output channels) 3by3 kernel, stride = 1\n",
    "conv1 = nn.Conv2d(1, 6, 3, 1) # ---> 6 filters --> pooling --> conv2\n",
    "\n",
    "# 6 Input Filters Conv1, 16 filters out, 3by3, stride=1\n",
    "conv2 = nn.Conv2d(6, 16, 3, 1)"
   ],
   "metadata": {
    "collapsed": false
   }
  },
  {
   "cell_type": "code",
   "execution_count": 19,
   "outputs": [],
   "source": [
    "for i, (X_train, y_train) in enumerate(train_data):\n",
    "    break"
   ],
   "metadata": {
    "collapsed": false
   }
  },
  {
   "cell_type": "code",
   "execution_count": 37,
   "outputs": [
    {
     "data": {
      "text/plain": "torch.Size([1, 28, 28])"
     },
     "execution_count": 37,
     "metadata": {},
     "output_type": "execute_result"
    }
   ],
   "source": [
    "X_train.shape"
   ],
   "metadata": {
    "collapsed": false
   }
  },
  {
   "cell_type": "code",
   "execution_count": 38,
   "outputs": [
    {
     "data": {
      "text/plain": "tensor(5)"
     },
     "execution_count": 38,
     "metadata": {},
     "output_type": "execute_result"
    }
   ],
   "source": [
    "y_train"
   ],
   "metadata": {
    "collapsed": false
   }
  },
  {
   "cell_type": "code",
   "execution_count": 22,
   "outputs": [],
   "source": [
    "x = X_train.view(1, 1, 28,28) # ---> 4D batch"
   ],
   "metadata": {
    "collapsed": false
   }
  },
  {
   "cell_type": "code",
   "execution_count": 23,
   "outputs": [],
   "source": [
    "x = F.relu(conv1(x))"
   ],
   "metadata": {
    "collapsed": false
   }
  },
  {
   "cell_type": "code",
   "execution_count": 24,
   "outputs": [
    {
     "data": {
      "text/plain": "torch.Size([1, 6, 26, 26])"
     },
     "execution_count": 24,
     "metadata": {},
     "output_type": "execute_result"
    }
   ],
   "source": [
    "x.shape"
   ],
   "metadata": {
    "collapsed": false
   }
  },
  {
   "cell_type": "code",
   "execution_count": 25,
   "outputs": [],
   "source": [
    "x = F.max_pool2d(x, 2, 2)"
   ],
   "metadata": {
    "collapsed": false
   }
  },
  {
   "cell_type": "code",
   "execution_count": 26,
   "outputs": [
    {
     "data": {
      "text/plain": "torch.Size([1, 6, 13, 13])"
     },
     "execution_count": 26,
     "metadata": {},
     "output_type": "execute_result"
    }
   ],
   "source": [
    "x.shape"
   ],
   "metadata": {
    "collapsed": false
   }
  },
  {
   "cell_type": "code",
   "execution_count": 27,
   "outputs": [],
   "source": [
    "x = F.relu(conv2(x))"
   ],
   "metadata": {
    "collapsed": false
   }
  },
  {
   "cell_type": "code",
   "execution_count": 28,
   "outputs": [
    {
     "data": {
      "text/plain": "torch.Size([1, 16, 11, 11])"
     },
     "execution_count": 28,
     "metadata": {},
     "output_type": "execute_result"
    }
   ],
   "source": [
    "x.shape"
   ],
   "metadata": {
    "collapsed": false
   }
  },
  {
   "cell_type": "code",
   "execution_count": 29,
   "outputs": [],
   "source": [
    "x = F.max_pool2d(x, 2, 2)"
   ],
   "metadata": {
    "collapsed": false
   }
  },
  {
   "cell_type": "code",
   "execution_count": 30,
   "outputs": [
    {
     "data": {
      "text/plain": "torch.Size([1, 16, 5, 5])"
     },
     "execution_count": 30,
     "metadata": {},
     "output_type": "execute_result"
    }
   ],
   "source": [
    "x.shape"
   ],
   "metadata": {
    "collapsed": false
   }
  },
  {
   "cell_type": "code",
   "execution_count": 31,
   "outputs": [
    {
     "data": {
      "text/plain": "torch.Size([1, 400])"
     },
     "execution_count": 31,
     "metadata": {},
     "output_type": "execute_result"
    }
   ],
   "source": [
    "x.view(-1, 16*5*5).shape # -1 keeps previous shape of dimension"
   ],
   "metadata": {
    "collapsed": false
   }
  },
  {
   "cell_type": "code",
   "execution_count": 32,
   "outputs": [],
   "source": [
    "class ConvolutionalNetwork(nn.Module):\n",
    "\n",
    "    def __init__(self):\n",
    "        super().__init__()\n",
    "        self.conv1 = nn.Conv2d(1, 6, 3, 1)\n",
    "        self.conv2 = nn.Conv2d(6, 16, 3, 1)\n",
    "        self.fc1 = nn.Linear(5*5*16, 120)\n",
    "        self.fc2 = nn.Linear(120, 84)\n",
    "        self.fc3 = nn.Linear(84, 10)\n",
    "\n",
    "    def forward(self, X):\n",
    "        X = F.relu(self.conv1(X))\n",
    "        X = F.max_pool2d(X, 2, 2)\n",
    "        X = F.relu(self.conv2(X))\n",
    "        X = F.max_pool2d(X, 2, 2)\n",
    "        X = X.view(-1, 16*5*5)\n",
    "        X = F.relu(self.fc1(X))\n",
    "        X = F.relu(self.fc2(X))\n",
    "        X = self.fc3(X)\n",
    "        return F.log_softmax(X, dim=1)"
   ],
   "metadata": {
    "collapsed": false
   }
  },
  {
   "cell_type": "code",
   "execution_count": 33,
   "outputs": [
    {
     "data": {
      "text/plain": "ConvolutionalNetwork(\n  (conv1): Conv2d(1, 6, kernel_size=(3, 3), stride=(1, 1))\n  (conv2): Conv2d(6, 16, kernel_size=(3, 3), stride=(1, 1))\n  (fc1): Linear(in_features=400, out_features=120, bias=True)\n  (fc2): Linear(in_features=120, out_features=84, bias=True)\n  (fc3): Linear(in_features=84, out_features=10, bias=True)\n)"
     },
     "execution_count": 33,
     "metadata": {},
     "output_type": "execute_result"
    }
   ],
   "source": [
    "torch.manual_seed(42)\n",
    "model = ConvolutionalNetwork()\n",
    "model"
   ],
   "metadata": {
    "collapsed": false
   }
  },
  {
   "cell_type": "code",
   "execution_count": 34,
   "outputs": [
    {
     "name": "stdout",
     "output_type": "stream",
     "text": [
      "54\n",
      "6\n",
      "864\n",
      "16\n",
      "48000\n",
      "120\n",
      "10080\n",
      "84\n",
      "840\n",
      "10\n"
     ]
    }
   ],
   "source": [
    "for param in model.parameters():\n",
    "    print(param.numel())"
   ],
   "metadata": {
    "collapsed": false
   }
  },
  {
   "cell_type": "code",
   "execution_count": 35,
   "outputs": [],
   "source": [
    "criterion = nn.CrossEntropyLoss()\n",
    "optimizer = torch.optim.Adam(model.parameters(), lr=0.001)"
   ],
   "metadata": {
    "collapsed": false
   }
  },
  {
   "cell_type": "code",
   "execution_count": 39,
   "outputs": [
    {
     "name": "stdout",
     "output_type": "stream",
     "text": [
      "EPOCH: 0 BATCH: 600 LOSS: 0.04255055636167526\n",
      "EPOCH: 0 BATCH: 1200 LOSS: 0.07605955749750137\n",
      "EPOCH: 0 BATCH: 1800 LOSS: 0.36373868584632874\n",
      "EPOCH: 0 BATCH: 2400 LOSS: 0.026480570435523987\n",
      "EPOCH: 0 BATCH: 3000 LOSS: 0.008208819665014744\n",
      "EPOCH: 0 BATCH: 3600 LOSS: 0.0015681401127949357\n",
      "EPOCH: 0 BATCH: 4200 LOSS: 0.5645227432250977\n",
      "EPOCH: 0 BATCH: 4800 LOSS: 0.032551269978284836\n",
      "EPOCH: 0 BATCH: 5400 LOSS: 0.012761639431118965\n",
      "EPOCH: 0 BATCH: 6000 LOSS: 0.03970568627119064\n",
      "EPOCH: 1 BATCH: 600 LOSS: 0.003998166415840387\n",
      "EPOCH: 1 BATCH: 1200 LOSS: 0.018281463533639908\n",
      "EPOCH: 1 BATCH: 1800 LOSS: 0.16669586300849915\n",
      "EPOCH: 1 BATCH: 2400 LOSS: 0.0995219498872757\n",
      "EPOCH: 1 BATCH: 3000 LOSS: 0.00788261741399765\n",
      "EPOCH: 1 BATCH: 3600 LOSS: 0.09027031064033508\n",
      "EPOCH: 1 BATCH: 4200 LOSS: 0.01537509448826313\n",
      "EPOCH: 1 BATCH: 4800 LOSS: 0.009246616624295712\n",
      "EPOCH: 1 BATCH: 5400 LOSS: 0.02709277532994747\n",
      "EPOCH: 1 BATCH: 6000 LOSS: 0.016526710242033005\n",
      "EPOCH: 2 BATCH: 600 LOSS: 0.07655125856399536\n",
      "EPOCH: 2 BATCH: 1200 LOSS: 0.002463302342221141\n",
      "EPOCH: 2 BATCH: 1800 LOSS: 0.0002125847095157951\n",
      "EPOCH: 2 BATCH: 2400 LOSS: 0.09089391678571701\n",
      "EPOCH: 2 BATCH: 3000 LOSS: 0.004040374420583248\n",
      "EPOCH: 2 BATCH: 3600 LOSS: 0.0007128549041226506\n",
      "EPOCH: 2 BATCH: 4200 LOSS: 0.0005039784591645002\n",
      "EPOCH: 2 BATCH: 4800 LOSS: 0.00756068155169487\n",
      "EPOCH: 2 BATCH: 5400 LOSS: 0.00014464779815170914\n",
      "EPOCH: 2 BATCH: 6000 LOSS: 0.0008280122419819236\n",
      "EPOCH: 3 BATCH: 600 LOSS: 0.0016063243383541703\n",
      "EPOCH: 3 BATCH: 1200 LOSS: 0.28163793683052063\n",
      "EPOCH: 3 BATCH: 1800 LOSS: 6.619646592298523e-05\n",
      "EPOCH: 3 BATCH: 2400 LOSS: 0.0004130678717046976\n",
      "EPOCH: 3 BATCH: 3000 LOSS: 0.012592064216732979\n",
      "EPOCH: 3 BATCH: 3600 LOSS: 0.016169775277376175\n",
      "EPOCH: 3 BATCH: 4200 LOSS: 0.0014643435133621097\n",
      "EPOCH: 3 BATCH: 4800 LOSS: 0.0005641314783133566\n",
      "EPOCH: 3 BATCH: 5400 LOSS: 4.666659879148938e-05\n",
      "EPOCH: 3 BATCH: 6000 LOSS: 0.001812889240682125\n",
      "EPOCH: 4 BATCH: 600 LOSS: 0.0027988324873149395\n",
      "EPOCH: 4 BATCH: 1200 LOSS: 0.0025553421583026648\n",
      "EPOCH: 4 BATCH: 1800 LOSS: 0.0035151499323546886\n",
      "EPOCH: 4 BATCH: 2400 LOSS: 0.00926919560879469\n",
      "EPOCH: 4 BATCH: 3000 LOSS: 1.1598438504734077e-05\n",
      "EPOCH: 4 BATCH: 3600 LOSS: 0.0003014731628354639\n",
      "EPOCH: 4 BATCH: 4200 LOSS: 0.04210151731967926\n",
      "EPOCH: 4 BATCH: 4800 LOSS: 3.0051058274693787e-05\n",
      "EPOCH: 4 BATCH: 5400 LOSS: 0.003283632453531027\n",
      "EPOCH: 4 BATCH: 6000 LOSS: 0.06935475766658783\n",
      "Training took 4.13288596868515 minutes\n"
     ]
    }
   ],
   "source": [
    "import time\n",
    "start_time = time.time()\n",
    "\n",
    "# Variables (Trackers)\n",
    "epochs = 5\n",
    "train_losses = []\n",
    "test_losses = []\n",
    "train_correct = []\n",
    "test_correct = []\n",
    "\n",
    "#For loop epochs\n",
    "for i in range(epochs):\n",
    "    trn_corr = 0\n",
    "    tst_corr = 0\n",
    "\n",
    "    for b, (X_train, y_train) in enumerate(train_loader): #X_train = 1 x 28 x 28, y_train = label\n",
    "        b+=1\n",
    "\n",
    "        # Train\n",
    "        y_pred = model(X_train) # Not flattened due to conv2D\n",
    "        loss = criterion(y_pred, y_train)\n",
    "\n",
    "        predicted = torch.max(y_pred.data, 1)[1] #predicted labels as a 1d tensor\n",
    "        batch_corr = (predicted == y_train).sum() #if these predicted labels of 1d tensor == y_train or actual values, this ends up being 1d tensor of values then summed.\n",
    "        trn_corr += batch_corr\n",
    "\n",
    "        optimizer.zero_grad()\n",
    "        loss.backward()\n",
    "        optimizer.step()\n",
    "\n",
    "        if b % 600 == 0:\n",
    "            print(f'EPOCH: {i} BATCH: {b} LOSS: {loss.item()}')\n",
    "\n",
    "    train_losses.append(loss)\n",
    "    train_correct.append(trn_corr)\n",
    "\n",
    "    # Test\n",
    "    with torch.no_grad():\n",
    "        for b, (X_test, y_test) in enumerate(test_loader):\n",
    "            y_val = model(X_test)\n",
    "\n",
    "            predicted = torch.max(y_val.data, 1)[1]\n",
    "            tst_corr += (predicted == y_test).sum()\n",
    "\n",
    "    loss = criterion(y_pred, y_train)\n",
    "    test_losses.append(loss)\n",
    "    test_correct.append(tst_corr)\n",
    "\n",
    "current_time = time.time()\n",
    "total = current_time - start_time\n",
    "print(f\"Training took {total/60} minutes\")\n",
    "\n"
   ],
   "metadata": {
    "collapsed": false
   }
  },
  {
   "cell_type": "code",
   "execution_count": 41,
   "outputs": [
    {
     "data": {
      "text/plain": "<Figure size 432x288 with 1 Axes>",
      "image/png": "[encoded data removed]"
     },
     "metadata": {
      "needs_background": "light"
     },
     "output_type": "display_data"
    }
   ],
   "source": [
    "with torch.no_grad():\n",
    "    plt.plot(train_losses, label='training loss')\n",
    "    plt.plot(test_losses, label='validation loss')\n",
    "    plt.title('Loss at the end of each epoch')\n",
    "    plt.legend();"
   ],
   "metadata": {
    "collapsed": false
   }
  },
  {
   "cell_type": "code",
   "execution_count": 42,
   "outputs": [
    {
     "data": {
      "text/plain": "<Figure size 432x288 with 1 Axes>",
      "image/png": "[encoded data removed]"
     },
     "metadata": {
      "needs_background": "light"
     },
     "output_type": "display_data"
    }
   ],
   "source": [
    "plt.plot([t/600 for t in train_correct], label='training accuracy')\n",
    "plt.plot([t/100 for t in test_correct], label='validation accuracy')\n",
    "plt.title('Accuracy at the end of each epoch')\n",
    "plt.legend();"
   ],
   "metadata": {
    "collapsed": false
   }
  },
  {
   "cell_type": "code",
   "execution_count": 43,
   "outputs": [],
   "source": [
    "test_load_all = DataLoader(test_data, batch_size=10000, shuffle=False)"
   ],
   "metadata": {
    "collapsed": false
   }
  },
  {
   "cell_type": "code",
   "execution_count": 45,
   "outputs": [],
   "source": [
    "with torch.no_grad():\n",
    "    correct = 0\n",
    "    for X_test, y_test in test_load_all:\n",
    "        y_val = model(X_test)\n",
    "        predicted = torch.max(y_val, 1)[1]\n",
    "        correct += (predicted == y_test).sum()"
   ],
   "metadata": {
    "collapsed": false
   }
  },
  {
   "cell_type": "code",
   "execution_count": 46,
   "outputs": [
    {
     "data": {
      "text/plain": "0.9879"
     },
     "execution_count": 46,
     "metadata": {},
     "output_type": "execute_result"
    }
   ],
   "source": [
    "correct.item()/len(test_data)"
   ],
   "metadata": {
    "collapsed": false
   }
  },
  {
   "cell_type": "code",
   "execution_count": 47,
   "outputs": [
    {
     "data": {
      "text/plain": "<matplotlib.image.AxesImage at 0x2878c18d0c8>"
     },
     "execution_count": 47,
     "metadata": {},
     "output_type": "execute_result"
    },
    {
     "data": {
      "text/plain": "<Figure size 432x288 with 1 Axes>",
      "image/png": "[encoded data removed]"
     },
     "metadata": {
      "needs_background": "light"
     },
     "output_type": "display_data"
    }
   ],
   "source": [
    "plt.imshow(test_data[2019][0].reshape(28, 28))"
   ],
   "metadata": {
    "collapsed": false
   }
  },
  {
   "cell_type": "code",
   "execution_count": 48,
   "outputs": [],
   "source": [
    "model.eval()\n",
    "with torch.no_grad():\n",
    "    new_prediction = model(test_data[2019][0].view(1, 1, 28, 28))"
   ],
   "metadata": {
    "collapsed": false
   }
  },
  {
   "cell_type": "code",
   "execution_count": 49,
   "outputs": [
    {
     "data": {
      "text/plain": "tensor(9)"
     },
     "execution_count": 49,
     "metadata": {},
     "output_type": "execute_result"
    }
   ],
   "source": [
    "new_prediction.argmax()"
   ],
   "metadata": {
    "collapsed": false
   }
  },
  {
   "cell_type": "code",
   "execution_count": null,
   "outputs": [],
   "source": [],
   "metadata": {
    "collapsed": false
   }
  }
 ],
 "metadata": {
  "kernelspec": {
   "display_name": "Python 3",
   "language": "python",
   "name": "python3"
  },
  "language_info": {
   "codemirror_mode": {
    "name": "ipython",
    "version": 2
   },
   "file_extension": ".py",
   "mimetype": "text/x-python",
   "name": "python",
   "nbconvert_exporter": "python",
   "pygments_lexer": "ipython2",
   "version": "2.7.6"
  }
 },
 "nbformat": 4,
 "nbformat_minor": 0
}
