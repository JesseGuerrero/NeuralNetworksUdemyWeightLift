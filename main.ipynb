{
 "cells": [
  {
   "cell_type": "code",
   "execution_count": 1,
   "metadata": {
    "collapsed": true
   },
   "outputs": [],
   "source": [
    "import torch\n",
    "import torch.nn as nn\n",
    "import torch.nn.functional as F"
   ]
  },
  {
   "cell_type": "code",
   "execution_count": 2,
   "outputs": [],
   "source": [
    "from torch.utils.data import DataLoader\n",
    "from torchvision import datasets, transforms"
   ],
   "metadata": {
    "collapsed": false
   }
  },
  {
   "cell_type": "code",
   "execution_count": 3,
   "outputs": [
    {
     "name": "stderr",
     "output_type": "stream",
     "text": [
      "C:\\Users\\jesse\\AppData\\Roaming\\Python\\Python37\\site-packages\\sklearn\\utils\\validation.py:37: DeprecationWarning: distutils Version classes are deprecated. Use packaging.version instead.\n",
      "  LARGE_SPARSE_SUPPORTED = LooseVersion(scipy_version) >= '0.14.0'\n"
     ]
    }
   ],
   "source": [
    "import numpy as np\n",
    "import pandas as pd\n",
    "from sklearn.metrics import confusion_matrix\n",
    "import matplotlib.pyplot as plt\n",
    "%matplotlib inline"
   ],
   "metadata": {
    "collapsed": false
   }
  },
  {
   "cell_type": "code",
   "execution_count": 4,
   "outputs": [],
   "source": [
    "transforms = transforms.ToTensor()"
   ],
   "metadata": {
    "collapsed": false
   }
  },
  {
   "cell_type": "code",
   "execution_count": 5,
   "outputs": [],
   "source": [
    "train_data = datasets.MNIST(root='./datasets', train=True, download=True, transform=transforms)"
   ],
   "metadata": {
    "collapsed": false
   }
  },
  {
   "cell_type": "code",
   "execution_count": 6,
   "outputs": [],
   "source": [
    "test_data = datasets.MNIST(root='./datasets', train=False, download=True, transform=transforms)"
   ],
   "metadata": {
    "collapsed": false
   }
  },
  {
   "cell_type": "code",
   "execution_count": 7,
   "outputs": [
    {
     "data": {
      "text/plain": "Dataset MNIST\n    Number of datapoints: 60000\n    Split: train\n    Root Location: ./datasets\n    Transforms (if any): ToTensor()\n    Target Transforms (if any): None"
     },
     "execution_count": 7,
     "metadata": {},
     "output_type": "execute_result"
    }
   ],
   "source": [
    "train_data"
   ],
   "metadata": {
    "collapsed": false
   }
  },
  {
   "cell_type": "code",
   "execution_count": 8,
   "outputs": [
    {
     "data": {
      "text/plain": "Dataset MNIST\n    Number of datapoints: 10000\n    Split: test\n    Root Location: ./datasets\n    Transforms (if any): ToTensor()\n    Target Transforms (if any): None"
     },
     "execution_count": 8,
     "metadata": {},
     "output_type": "execute_result"
    }
   ],
   "source": [
    "test_data"
   ],
   "metadata": {
    "collapsed": false
   }
  },
  {
   "cell_type": "code",
   "execution_count": 9,
   "outputs": [
    {
     "data": {
      "text/plain": "torchvision.datasets.mnist.MNIST"
     },
     "execution_count": 9,
     "metadata": {},
     "output_type": "execute_result"
    }
   ],
   "source": [
    "type(train_data)"
   ],
   "metadata": {
    "collapsed": false
   }
  },
  {
   "cell_type": "code",
   "execution_count": 10,
   "outputs": [],
   "source": [
    "image, label = train_data[0]"
   ],
   "metadata": {
    "collapsed": false
   }
  },
  {
   "cell_type": "code",
   "execution_count": 11,
   "outputs": [
    {
     "data": {
      "text/plain": "torch.Size([1, 28, 28])"
     },
     "execution_count": 11,
     "metadata": {},
     "output_type": "execute_result"
    }
   ],
   "source": [
    "image.shape"
   ],
   "metadata": {
    "collapsed": false
   }
  },
  {
   "cell_type": "code",
   "execution_count": 12,
   "outputs": [
    {
     "data": {
      "text/plain": "tensor(5)"
     },
     "execution_count": 12,
     "metadata": {},
     "output_type": "execute_result"
    }
   ],
   "source": [
    "label"
   ],
   "metadata": {
    "collapsed": false
   }
  },
  {
   "cell_type": "code",
   "execution_count": 13,
   "outputs": [
    {
     "data": {
      "text/plain": "<matplotlib.image.AxesImage at 0x178cd16b3c8>"
     },
     "execution_count": 13,
     "metadata": {},
     "output_type": "execute_result"
    },
    {
     "data": {
      "text/plain": "<Figure size 432x288 with 1 Axes>",
      "image/png": "[encoded data removed]"
     },
     "metadata": {
      "needs_background": "light"
     },
     "output_type": "display_data"
    }
   ],
   "source": [
    "plt.imshow(image.reshape((28,28)), cmap='gist_yarg')"
   ],
   "metadata": {
    "collapsed": false
   }
  },
  {
   "cell_type": "code",
   "execution_count": 14,
   "outputs": [],
   "source": [
    "torch.manual_seed(101)\n",
    "\n",
    "# 0 images, 1 images, ...\n",
    "train_loader = DataLoader(train_data, batch_size=100, shuffle=True)\n",
    "\n",
    "test_loader = DataLoader(test_data, batch_size=500, shuffle=False)"
   ],
   "metadata": {
    "collapsed": false
   }
  },
  {
   "cell_type": "code",
   "execution_count": 15,
   "outputs": [],
   "source": [
    "from torchvision.utils import make_grid\n",
    "np.set_printoptions(formatter=dict(int=lambda x: f'{x:4}'))"
   ],
   "metadata": {
    "collapsed": false
   }
  },
  {
   "cell_type": "code",
   "execution_count": 16,
   "outputs": [],
   "source": [
    "# FIRST BATCH\n",
    "for images, labels in train_loader:\n",
    "    break\n",
    "    #60,000 / 100 per batch =  60 times"
   ],
   "metadata": {
    "collapsed": false
   }
  },
  {
   "cell_type": "code",
   "execution_count": 17,
   "outputs": [
    {
     "name": "stdout",
     "output_type": "stream",
     "text": [
      "Labels:  [   7    2    3    5    8    5    3    6    9    9    1    3]\n"
     ]
    },
    {
     "data": {
      "text/plain": "<Figure size 720x288 with 1 Axes>",
      "image/png": "[encoded data removed]"
     },
     "metadata": {
      "needs_background": "light"
     },
     "output_type": "display_data"
    }
   ],
   "source": [
    "# Print the first 12 labels\n",
    "print('Labels: ', labels[:12].numpy())\n",
    "\n",
    "# Print the first 12 images\n",
    "im = make_grid(images[:12], nrow=12)  # the default nrow is 8\n",
    "plt.figure(figsize=(10,4))\n",
    "# We need to transpose the images from CWH to WHC\n",
    "plt.imshow(np.transpose(im.numpy(), (1, 2, 0)));"
   ],
   "metadata": {
    "collapsed": false
   }
  },
  {
   "cell_type": "code",
   "execution_count": 18,
   "outputs": [],
   "source": [
    "class MultilayerPerceptron(nn.Module):\n",
    "\n",
    "    def __init__(self, in_sz=784, out_sz=10, layers=[120, 84]):\n",
    "        super().__init__()\n",
    "\n",
    "        self.fc1 = nn.Linear(in_sz, layers[0])\n",
    "        self.fc2 = nn.Linear(layers[0], layers[1])\n",
    "        self.fc3 = nn.Linear(layers[1], out_sz)\n",
    "\n",
    "    def forward(self, X):\n",
    "\n",
    "        X = F.relu(self.fc1(X))\n",
    "        X = F.relu(self.fc2(X))\n",
    "        X = self.fc3(X)\n",
    "\n",
    "        return F. log_softmax(X, dim=1) #Multiclass classification"
   ],
   "metadata": {
    "collapsed": false
   }
  },
  {
   "cell_type": "code",
   "execution_count": 19,
   "outputs": [
    {
     "data": {
      "text/plain": "MultilayerPerceptron(\n  (fc1): Linear(in_features=784, out_features=120, bias=True)\n  (fc2): Linear(in_features=120, out_features=84, bias=True)\n  (fc3): Linear(in_features=84, out_features=10, bias=True)\n)"
     },
     "execution_count": 19,
     "metadata": {},
     "output_type": "execute_result"
    }
   ],
   "source": [
    "torch.manual_seed(101)\n",
    "model = MultilayerPerceptron()\n",
    "model"
   ],
   "metadata": {
    "collapsed": false
   }
  },
  {
   "cell_type": "code",
   "execution_count": 20,
   "outputs": [
    {
     "name": "stdout",
     "output_type": "stream",
     "text": [
      "94080\n",
      "120\n",
      "10080\n",
      "84\n",
      "840\n",
      "10\n"
     ]
    }
   ],
   "source": [
    "# ANN ---> CNN\n",
    "for param in model.parameters(): # ~105k parameters for 28 pixels, CNN is more efficient with more accuracy\n",
    "    print(param.numel())"
   ],
   "metadata": {
    "collapsed": false
   }
  },
  {
   "cell_type": "code",
   "execution_count": 21,
   "outputs": [],
   "source": [
    "criterion = nn.CrossEntropyLoss()\n",
    "optimizer = torch.optim.Adam(model.parameters(), lr = 0.001)"
   ],
   "metadata": {
    "collapsed": false
   }
  },
  {
   "cell_type": "code",
   "execution_count": 22,
   "outputs": [
    {
     "data": {
      "text/plain": "torch.Size([100, 1, 28, 28])"
     },
     "execution_count": 22,
     "metadata": {},
     "output_type": "execute_result"
    }
   ],
   "source": [
    "images.shape # ----> [100, 784]. 100 layers of neurons for each pixel 28*28=784"
   ],
   "metadata": {
    "collapsed": false
   }
  },
  {
   "cell_type": "code",
   "execution_count": 23,
   "outputs": [
    {
     "data": {
      "text/plain": "torch.Size([100, 784])"
     },
     "execution_count": 23,
     "metadata": {},
     "output_type": "execute_result"
    }
   ],
   "source": [
    "images.view(100, -1).shape"
   ],
   "metadata": {
    "collapsed": false
   }
  },
  {
   "cell_type": "code",
   "execution_count": 28,
   "outputs": [
    {
     "name": "stdout",
     "output_type": "stream",
     "text": [
      "epoch:  0  batch:  200 [ 20000/60000]  loss: 0.09640833  accuracy:  98.610%\n",
      "epoch:  0  batch:  400 [ 40000/60000]  loss: 0.05028680  accuracy:  98.442%\n",
      "epoch:  0  batch:  600 [ 60000/60000]  loss: 0.11897416  accuracy:  98.403%\n",
      "epoch:  1  batch:  200 [ 20000/60000]  loss: 0.02744196  accuracy:  98.935%\n",
      "epoch:  1  batch:  400 [ 40000/60000]  loss: 0.01158819  accuracy:  98.782%\n",
      "epoch:  1  batch:  600 [ 60000/60000]  loss: 0.03643145  accuracy:  98.700%\n",
      "epoch:  2  batch:  200 [ 20000/60000]  loss: 0.04298399  accuracy:  98.905%\n",
      "epoch:  2  batch:  400 [ 40000/60000]  loss: 0.09388728  accuracy:  98.915%\n",
      "epoch:  2  batch:  600 [ 60000/60000]  loss: 0.00884975  accuracy:  98.897%\n",
      "epoch:  3  batch:  200 [ 20000/60000]  loss: 0.02053939  accuracy:  99.270%\n",
      "epoch:  3  batch:  400 [ 40000/60000]  loss: 0.01347383  accuracy:  99.142%\n",
      "epoch:  3  batch:  600 [ 60000/60000]  loss: 0.03716271  accuracy:  99.058%\n",
      "epoch:  4  batch:  200 [ 20000/60000]  loss: 0.00644774  accuracy:  99.200%\n",
      "epoch:  4  batch:  400 [ 40000/60000]  loss: 0.01320133  accuracy:  99.180%\n",
      "epoch:  4  batch:  600 [ 60000/60000]  loss: 0.03134219  accuracy:  99.187%\n",
      "epoch:  5  batch:  200 [ 20000/60000]  loss: 0.00784933  accuracy:  99.570%\n",
      "epoch:  5  batch:  400 [ 40000/60000]  loss: 0.00339369  accuracy:  99.487%\n",
      "epoch:  5  batch:  600 [ 60000/60000]  loss: 0.05606653  accuracy:  99.453%\n",
      "epoch:  6  batch:  200 [ 20000/60000]  loss: 0.01426082  accuracy:  99.445%\n",
      "epoch:  6  batch:  400 [ 40000/60000]  loss: 0.02589592  accuracy:  99.453%\n",
      "epoch:  6  batch:  600 [ 60000/60000]  loss: 0.01195295  accuracy:  99.420%\n",
      "epoch:  7  batch:  200 [ 20000/60000]  loss: 0.01621146  accuracy:  99.705%\n",
      "epoch:  7  batch:  400 [ 40000/60000]  loss: 0.01195411  accuracy:  99.595%\n",
      "epoch:  7  batch:  600 [ 60000/60000]  loss: 0.03051727  accuracy:  99.560%\n",
      "epoch:  8  batch:  200 [ 20000/60000]  loss: 0.03322342  accuracy:  99.695%\n",
      "epoch:  8  batch:  400 [ 40000/60000]  loss: 0.00787364  accuracy:  99.660%\n",
      "epoch:  8  batch:  600 [ 60000/60000]  loss: 0.01468167  accuracy:  99.612%\n",
      "epoch:  9  batch:  200 [ 20000/60000]  loss: 0.00116258  accuracy:  99.735%\n",
      "epoch:  9  batch:  400 [ 40000/60000]  loss: 0.00395495  accuracy:  99.600%\n",
      "epoch:  9  batch:  600 [ 60000/60000]  loss: 0.00592766  accuracy:  99.560%\n",
      "Duration: 80.6947135925293 mins\n"
     ]
    }
   ],
   "source": [
    "import time\n",
    "start_time = time.time()\n",
    "\n",
    "# TRAINING\n",
    "\n",
    "epochs = 10\n",
    "\n",
    "#Trackers\n",
    "train_losses = []\n",
    "test_losses = []\n",
    "train_correct = []\n",
    "test_correct = []\n",
    "\n",
    "for i in range(epochs):\n",
    "    trn_corr = 0\n",
    "    tst_corr = 0\n",
    "\n",
    "    for b, (X_train, y_train) in enumerate(train_loader):\n",
    "        b +=1\n",
    "\n",
    "        # 10 neurons\n",
    "        y_pred = model(X_train.view(100, -1)) #The batch portion/new dimension is covered by the neural network base class.\n",
    "        loss = criterion(y_pred, y_train)\n",
    "\n",
    "        predicted = torch.max(y_pred.data, 1)[1]\n",
    "        batch_corr = (predicted == y_train).sum()\n",
    "        trn_corr += batch_corr\n",
    "\n",
    "        optimizer.zero_grad()\n",
    "        loss.backward()\n",
    "        optimizer.step()\n",
    "\n",
    "        if b%200 == 0:\n",
    "            print(f'epoch: {i:2}  batch: {b:4} [{100*b:6}/60000]  loss: {loss.item():10.8f}  \\\n",
    "accuracy: {trn_corr.item()*100/(100*b):7.3f}%')\n",
    "\n",
    "    train_losses.append(loss)\n",
    "    train_correct.append(trn_corr)\n",
    "\n",
    "    with torch.no_grad():\n",
    "\n",
    "        for b, (X_test, y_test) in enumerate(test_loader):\n",
    "\n",
    "            y_val = model(X_test.view(500, -1))\n",
    "\n",
    "            predicted = torch.max(y_val.data, 1)[1]\n",
    "            tst_corr += (predicted==y_test).sum()\n",
    "\n",
    "    loss = criterion(y_val, y_test)\n",
    "    test_losses.append(loss)\n",
    "    test_correct.append(tst_corr)\n",
    "\n",
    "total_time = time.time()-start_time\n",
    "print(f'Duration: {total_time/60} mins')\n"
   ],
   "metadata": {
    "collapsed": false
   }
  }
 ],
 "metadata": {
  "kernelspec": {
   "display_name": "Python 3",
   "language": "python",
   "name": "python3"
  },
  "language_info": {
   "codemirror_mode": {
    "name": "ipython",
    "version": 2
   },
   "file_extension": ".py",
   "mimetype": "text/x-python",
   "name": "python",
   "nbconvert_exporter": "python",
   "pygments_lexer": "ipython2",
   "version": "2.7.6"
  }
 },
 "nbformat": 4,
 "nbformat_minor": 0
}
